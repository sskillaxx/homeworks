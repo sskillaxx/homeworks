{
 "cells": [
  {
   "cell_type": "code",
   "execution_count": 3,
   "id": "f32b5877",
   "metadata": {},
   "outputs": [
    {
     "name": "stdout",
     "output_type": "stream",
     "text": [
      "go ask your dad\n"
     ]
    }
   ],
   "source": [
    "input_text_1 = str(input('do user wants to be an actor? yes / no '))\n",
    "if input_text_1 == 'yes':\n",
    "    input_text_2 = str(input('who do you wanna be - hulk or loki? hulk / loki '))\n",
    "    if input_text_2 == 'hulk':\n",
    "        input_text_3 = str(input('your biceps? '))\n",
    "        if int(input_text_3) < 60:\n",
    "            print('unluck')\n",
    "        elif int(input_text_3) >= 60:\n",
    "            print('go filming')\n",
    "        else:\n",
    "            print('error 404')\n",
    "    elif input_text_2 == 'loki':\n",
    "        input_text_4 = str(input('who do you love more - mom or dad? mom / dad '))\n",
    "        if input_text_4 == 'dad':\n",
    "            print('go home bro')\n",
    "        elif input_text_4 == 'mom':\n",
    "            print('go ask your dad')\n",
    "        else:\n",
    "            print('error 404')    \n",
    "    else:\n",
    "        print('error 404')\n",
    "elif input_text_1 == 'no':\n",
    "    print('goodbye bro')\n",
    "else:\n",
    "    print('error 404')"
   ]
  }
 ],
 "metadata": {
  "kernelspec": {
   "display_name": "Python 3",
   "language": "python",
   "name": "python3"
  },
  "language_info": {
   "codemirror_mode": {
    "name": "ipython",
    "version": 3
   },
   "file_extension": ".py",
   "mimetype": "text/x-python",
   "name": "python",
   "nbconvert_exporter": "python",
   "pygments_lexer": "ipython3",
   "version": "3.12.2"
  }
 },
 "nbformat": 4,
 "nbformat_minor": 5
}
