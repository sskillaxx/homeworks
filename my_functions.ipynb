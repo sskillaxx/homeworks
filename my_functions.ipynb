{
 "cells": [
  {
   "cell_type": "code",
   "execution_count": null,
   "id": "b359afae",
   "metadata": {},
   "outputs": [
    {
     "data": {
      "text/html": [
       "<pre style=\"white-space:pre;overflow-x:auto;line-height:normal;font-family:Menlo,'DejaVu Sans Mono',consolas,'Courier New',monospace\">IlYa LUbEnEtS\n",
       "</pre>\n"
      ],
      "text/plain": [
       "IlYa LUbEnEtS\n"
      ]
     },
     "metadata": {},
     "output_type": "display_data"
    },
    {
     "data": {
      "text/html": [
       "<pre style=\"white-space:pre;overflow-x:auto;line-height:normal;font-family:Menlo,'DejaVu Sans Mono',consolas,'Courier New',monospace\"><span style=\"color: #800000; text-decoration-color: #800000; font-style: italic\">Hello, Ilya Lubenets!</span>\n",
       "</pre>\n"
      ],
      "text/plain": [
       "\u001b[3;31mHello, Ilya Lubenets!\u001b[0m\n"
      ]
     },
     "metadata": {},
     "output_type": "display_data"
    }
   ],
   "source": [
    "import rich\n",
    "from rich import print\n",
    "\n",
    "def greet(x):\n",
    "    result = ''\n",
    "    for i in range(len(x)):\n",
    "        if i % 2 == 0:\n",
    "            result += x[i].upper()\n",
    "        else:\n",
    "            result += x[i]\n",
    "    return result\n",
    "\n",
    "def hello(y):\n",
    "    return f\"[italic red]Hello, {y}![italic red]\"\n",
    "\n",
    "print(greet('Ilya Lubenets'))\n",
    "print(hello('Ilya Lubenets'))"
   ]
  }
 ],
 "metadata": {
  "kernelspec": {
   "display_name": "Python 3",
   "language": "python",
   "name": "python3"
  },
  "language_info": {
   "codemirror_mode": {
    "name": "ipython",
    "version": 3
   },
   "file_extension": ".py",
   "mimetype": "text/x-python",
   "name": "python",
   "nbconvert_exporter": "python",
   "pygments_lexer": "ipython3",
   "version": "3.12.2"
  }
 },
 "nbformat": 4,
 "nbformat_minor": 5
}
