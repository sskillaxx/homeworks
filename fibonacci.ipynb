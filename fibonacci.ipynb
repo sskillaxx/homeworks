{
 "cells": [
  {
   "cell_type": "code",
   "execution_count": 1,
   "id": "c3e455c4",
   "metadata": {},
   "outputs": [
    {
     "name": "stdout",
     "output_type": "stream",
     "text": [
      "440047156314635932379335110006072428645041207574883\n"
     ]
    }
   ],
   "source": [
    "CACHE = {}\n",
    "\n",
    "def fibonacci(x):\n",
    "    if x in CACHE:\n",
    "        return CACHE[x]\n",
    "    if x <= 1:\n",
    "        return x\n",
    "    CACHE[x] = fibonacci(x - 2) + fibonacci(x - 1)\n",
    "    return CACHE[x]\n",
    "\n",
    "print(fibonacci(244))"
   ]
  }
 ],
 "metadata": {
  "kernelspec": {
   "display_name": "Python 3",
   "language": "python",
   "name": "python3"
  },
  "language_info": {
   "codemirror_mode": {
    "name": "ipython",
    "version": 3
   },
   "file_extension": ".py",
   "mimetype": "text/x-python",
   "name": "python",
   "nbconvert_exporter": "python",
   "pygments_lexer": "ipython3",
   "version": "3.12.2"
  }
 },
 "nbformat": 4,
 "nbformat_minor": 5
}
