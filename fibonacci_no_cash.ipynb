{
 "cells": [
  {
   "cell_type": "code",
   "execution_count": null,
   "id": "6a24a2b3",
   "metadata": {
    "vscode": {
     "languageId": "plaintext"
    }
   },
   "outputs": [],
   "source": [
    "def fibonacci(x):\n",
    "    if x <= 1:\n",
    "        return x\n",
    "    else:\n",
    "        return fibonacci(x - 2) + fibonacci(x - 1)\n",
    "\n",
    "print(fibonacci(9))"
   ]
  }
 ],
 "metadata": {
  "language_info": {
   "name": "python"
  }
 },
 "nbformat": 4,
 "nbformat_minor": 5
}
