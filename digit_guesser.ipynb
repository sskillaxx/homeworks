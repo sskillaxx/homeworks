{
 "cells": [
  {
   "cell_type": "code",
   "execution_count": 1,
   "id": "8ad8ccc4",
   "metadata": {},
   "outputs": [
    {
     "name": "stdout",
     "output_type": "stream",
     "text": [
      "your digit is 10000\n"
     ]
    }
   ],
   "source": [
    "start = int(input(f'start is: '))\n",
    "end = int(input(f'end is: '))\n",
    "\n",
    "while True:\n",
    "    if (start < 0 and end > 0) or (start > 0 and end > 0):\n",
    "        middle = (end + start) //  2\n",
    "        check = input(f\"your digit <>= {middle}? \")\n",
    "        if check == \"=\":\n",
    "            print(f\"your digit is {middle}\")\n",
    "            break\n",
    "        elif check == \"exit\":\n",
    "            break\n",
    "        elif check == \"<\":\n",
    "            end = middle - 1\n",
    "        elif check == \">\":\n",
    "            start = middle + 1\n",
    "    else:\n",
    "        middle_special = int((end + start) / 2)\n",
    "        check = input(f\"your digit <>= {middle_special}? \")\n",
    "        if check == \"=\":\n",
    "            print(f\"your digit is {middle_special}\")\n",
    "            break\n",
    "        elif check == \"exit\":\n",
    "            break\n",
    "        elif check == \"<\":\n",
    "            end = middle_special - 1\n",
    "        elif check == \">\":\n",
    "            start = middle_special + 1\n",
    "\n",
    "# работает с диапазонами вида [-x, y], [x, y], [-x, -y]"
   ]
  }
 ],
 "metadata": {
  "kernelspec": {
   "display_name": "Python 3",
   "language": "python",
   "name": "python3"
  },
  "language_info": {
   "codemirror_mode": {
    "name": "ipython",
    "version": 3
   },
   "file_extension": ".py",
   "mimetype": "text/x-python",
   "name": "python",
   "nbconvert_exporter": "python",
   "pygments_lexer": "ipython3",
   "version": "3.12.2"
  }
 },
 "nbformat": 4,
 "nbformat_minor": 5
}
